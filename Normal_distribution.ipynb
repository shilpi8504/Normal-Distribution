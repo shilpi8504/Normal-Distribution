{
  "nbformat": 4,
  "nbformat_minor": 0,
  "metadata": {
    "colab": {
      "name": "Normal distribution.ipynb",
      "provenance": [],
      "collapsed_sections": [],
      "toc_visible": true,
      "authorship_tag": "ABX9TyPsC1Ng56pJrB5/C+BNAj/7",
      "include_colab_link": true
    },
    "kernelspec": {
      "name": "python3",
      "display_name": "Python 3"
    },
    "language_info": {
      "name": "python"
    }
  },
  "cells": [
    {
      "cell_type": "markdown",
      "metadata": {
        "id": "view-in-github",
        "colab_type": "text"
      },
      "source": [
        "<a href=\"https://colab.research.google.com/github/shilpi8504/Normal-Distribution/blob/main/Normal_distribution.ipynb\" target=\"_parent\"><img src=\"https://colab.research.google.com/assets/colab-badge.svg\" alt=\"Open In Colab\"/></a>"
      ]
    },
    {
      "cell_type": "code",
      "execution_count": null,
      "metadata": {
        "id": "uTNfHnUGSFTb"
      },
      "outputs": [],
      "source": [
        "# Importing required libraries\n",
        " \n",
        "import numpy as np\n",
        "import matplotlib.pyplot as plt"
      ]
    },
    {
      "cell_type": "code",
      "source": [
        "# Creating a series of data of in range of 1-50.\n",
        "x = np.linspace(1,50,200)"
      ],
      "metadata": {
        "id": "FRJLtIK7dLDU"
      },
      "execution_count": null,
      "outputs": []
    },
    {
      "cell_type": "code",
      "source": [
        "#Creating a Function.\n",
        "def normal_dist(x , mean , sd):\n",
        "    prob_density = (np.pi*sd) * np.exp(-0.5*((x-mean)/sd)**2)\n",
        "    return prob_density"
      ],
      "metadata": {
        "id": "BHnzQkWsdU3-"
      },
      "execution_count": null,
      "outputs": []
    },
    {
      "cell_type": "code",
      "source": [
        "#Calculate mean and Standard deviation.\n",
        "mean = np.mean(x)\n",
        "sd = np.std(x)"
      ],
      "metadata": {
        "id": "usLCE1VjeNCt"
      },
      "execution_count": null,
      "outputs": []
    },
    {
      "cell_type": "code",
      "source": [
        "#Apply function to the data.\n",
        "pdf = normal_dist(x,mean,sd)"
      ],
      "metadata": {
        "id": "K-V5UKoVejNZ"
      },
      "execution_count": null,
      "outputs": []
    },
    {
      "cell_type": "code",
      "source": [
        "#Plotting the Results\n",
        "plt.plot(x,pdf , color = 'red')\n",
        "plt.xlabel('Data points')\n",
        "plt.ylabel('Probability Density')"
      ],
      "metadata": {
        "colab": {
          "base_uri": "https://localhost:8080/",
          "height": 297
        },
        "id": "pINgnU3zejQx",
        "outputId": "37f14821-0d84-48b5-efd0-dc86a05465ec"
      },
      "execution_count": null,
      "outputs": [
        {
          "output_type": "execute_result",
          "data": {
            "text/plain": [
              "Text(0, 0.5, 'Probability Density')"
            ]
          },
          "metadata": {},
          "execution_count": 7
        },
        {
          "output_type": "display_data",
          "data": {
            "text/plain": [
              "<Figure size 432x288 with 1 Axes>"
            ],
            "image/png": "[encoded data removed]"
          },
          "metadata": {
            "needs_background": "light"
          }
        }
      ]
    },
    {
      "cell_type": "code",
      "source": [
        "We’ll use scipy.norm class function to calculate probabilities from the normal distribution.\n",
        "\n",
        "Suppose we have data of the heights of adults in a town and the data follows a normal distribution, we have a sufficient sample size with mean equals 5.3 and the standard deviation is 1."
      ],
      "metadata": {
        "id": "dMRconmwgjWL",
        "outputId": "b6ce55d4-50fe-440f-ec11-86523ada8728",
        "colab": {
          "base_uri": "https://localhost:8080/",
          "height": 151
        }
      },
      "execution_count": null,
      "outputs": [
        {
          "output_type": "error",
          "ename": "SyntaxError",
          "evalue": "ignored",
          "traceback": [
            "\u001b[0;36m  File \u001b[0;32m\"<ipython-input-1-b347eec89ff9>\"\u001b[0;36m, line \u001b[0;32m1\u001b[0m\n\u001b[0;31m    We’ll use scipy.norm class function to calculate probabilities from the normal distribution.\u001b[0m\n\u001b[0m        ^\u001b[0m\n\u001b[0;31mSyntaxError\u001b[0m\u001b[0;31m:\u001b[0m invalid character in identifier\n"
          ]
        }
      ]
    },
    {
      "cell_type": "code",
      "source": [
        "# import required libraries\n",
        "from scipy.stats import norm\n",
        "import numpy as np\n",
        "import matplotlib.pyplot as plt\n",
        "import seaborn as sb\n",
        " \n",
        "# Creating the distribution\n",
        "data = np.arange(1,10,0.01)\n",
        "pdf = norm.pdf(data , loc = 5.3 , scale = 1 )\n",
        " \n",
        "#Visualizing the distribution\n",
        " \n",
        "sb.set_style('whitegrid')\n",
        "sb.lineplot(data, pdf , color = 'black')\n",
        "plt.xlabel('Heights')\n",
        "plt.ylabel('Probability Density')"
      ],
      "metadata": {
        "colab": {
          "base_uri": "https://localhost:8080/",
          "height": 352
        },
        "id": "HdKXaLAUgjoP",
        "outputId": "1f83e96a-3ddf-468c-b1d2-75fd80cd2fff"
      },
      "execution_count": null,
      "outputs": [
        {
          "output_type": "stream",
          "name": "stderr",
          "text": [
            "/usr/local/lib/python3.7/dist-packages/seaborn/_decorators.py:43: FutureWarning: Pass the following variables as keyword args: x, y. From version 0.12, the only valid positional argument will be `data`, and passing other arguments without an explicit keyword will result in an error or misinterpretation.\n",
            "  FutureWarning\n"
          ]
        },
        {
          "output_type": "execute_result",
          "data": {
            "text/plain": [
              "Text(0, 0.5, 'Probability Density')"
            ]
          },
          "metadata": {},
          "execution_count": 8
        },
        {
          "output_type": "display_data",
          "data": {
            "text/plain": [
              "<Figure size 432x288 with 1 Axes>"
            ],
            "image/png": "[encoded data removed]"
          },
          "metadata": {}
        }
      ]
    },
    {
      "cell_type": "code",
      "source": [
        ""
      ],
      "metadata": {
        "id": "KztAuO6JejT3"
      },
      "execution_count": null,
      "outputs": []
    }
  ]
}